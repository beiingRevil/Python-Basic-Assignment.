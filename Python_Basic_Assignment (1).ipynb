{
  "nbformat": 4,
  "nbformat_minor": 0,
  "metadata": {
    "colab": {
      "provenance": []
    },
    "kernelspec": {
      "name": "python3",
      "display_name": "Python 3"
    },
    "language_info": {
      "name": "python"
    }
  },
  "cells": [
    {
      "cell_type": "code",
      "execution_count": null,
      "metadata": {
        "id": "qhtUI_LPiMQ6"
      },
      "outputs": [],
      "source": [
        "#Python Basics Questions.\n",
        "# Q1: What is Python, and why is it popular?\n",
        "q1_answer = \"\"\"Python is a high-level, interpreted programming language known for its simplicity, readability,\n",
        "and extensive libraries. It is popular due to its versatility, ease of learning, and applicability in various\n",
        "fields such as data science, web development, machine learning, and more.\"\"\"\n"
      ]
    },
    {
      "cell_type": "code",
      "source": [
        "# Q2: What is an interpreter in Python?\n",
        "q2_answer = \"\"\"An interpreter in Python is a program that executes Python code line by line,\n",
        "converting it into machine code for execution.\"\"\"\n",
        "\n"
      ],
      "metadata": {
        "id": "bjPWl2E9itrO"
      },
      "execution_count": null,
      "outputs": []
    },
    {
      "cell_type": "code",
      "source": [
        "# Q3: What are pre-defined keywords in Python?\n",
        "import keyword # Import the keyword module\n",
        "predefined_keywords = keyword.kwlist"
      ],
      "metadata": {
        "id": "A4kPP_jYjOZA"
      },
      "execution_count": null,
      "outputs": []
    },
    {
      "cell_type": "code",
      "source": [
        "# Q4: Can keywords be used as variable names?\n",
        "q4_answer = \"No, keywords are reserved words in Python and cannot be used as variable names.\"\n"
      ],
      "metadata": {
        "id": "BdemorjFjo4v"
      },
      "execution_count": null,
      "outputs": []
    },
    {
      "cell_type": "code",
      "source": [
        "# Q5: What is mutability in Python?\n",
        "q5_answer = \"\"\"Mutability in Python refers to the ability of an object to be modified after its creation.\n",
        "Mutable objects can be changed, while immutable objects cannot.\"\"\"\n"
      ],
      "metadata": {
        "id": "hinQ2QqdAnAF"
      },
      "execution_count": null,
      "outputs": []
    },
    {
      "cell_type": "code",
      "source": [
        "# Q6: Why are lists mutable, but tuples are immutable?\n",
        "q6_answer = \"\"\"Lists are mutable because their elements can be modified or updated after creation.\n",
        "Tuples, on the other hand, are immutable, meaning their elements cannot be changed once defined.\"\"\"\n"
      ],
      "metadata": {
        "id": "2bz-d1h0A81m"
      },
      "execution_count": null,
      "outputs": []
    },
    {
      "cell_type": "code",
      "source": [
        "# Q7: What is the difference between \"==\" and \"is\" operators in Python?\n",
        "q7_answer = \"\"\"The \"==\" operator checks for value equality, meaning it checks if two objects have the same value.\n",
        "The \"is\" operator checks for identity equality, meaning it checks if two objects refer to the same memory location.\"\"\""
      ],
      "metadata": {
        "id": "z3_V05eHBFjo"
      },
      "execution_count": null,
      "outputs": []
    },
    {
      "cell_type": "code",
      "source": [
        "# Q8: What are logical operators in Python?\n",
        "q8_answer = \"\"\"Logical operators in Python are used to combine conditional statements.\n",
        "They include \"and\", \"or\", and \"not\".\"\"\"\n"
      ],
      "metadata": {
        "id": "RFWDrJBIBnEU"
      },
      "execution_count": null,
      "outputs": []
    },
    {
      "cell_type": "code",
      "source": [
        "# Q9: What is type casting in Python?\n",
        "q9_answer = \"\"\"Type casting in Python is the process of converting a variable from one data type to another.\"\"\"\n"
      ],
      "metadata": {
        "id": "jnrsCrlJBumQ"
      },
      "execution_count": null,
      "outputs": []
    },
    {
      "cell_type": "code",
      "source": [
        "# Q10: What is the difference between implicit and explicit type casting?\n",
        "q10_answer = \"\"\"Implicit type casting is performed by Python automatically, such as converting an integer to a float.\n",
        "Explicit type casting requires manual conversion using functions like int(), float(), str(), etc.\"\"\"\n"
      ],
      "metadata": {
        "id": "F_8su73WB4tW"
      },
      "execution_count": null,
      "outputs": []
    },
    {
      "cell_type": "code",
      "source": [
        "# Q11: What is the purpose of conditional statements in Python?\n",
        "q11_answer = \"\"\"Conditional statements allow the execution of code based on specific conditions, enabling decision-making.\"\"\"\n"
      ],
      "metadata": {
        "id": "sAPa1fK1CIu1"
      },
      "execution_count": null,
      "outputs": []
    },
    {
      "cell_type": "code",
      "source": [
        "# Q12: How does the elif statement work?\n",
        "q12_answer = \"\"\"The elif statement is used to check multiple conditions. If the first condition is false,\n",
        "Python checks the elif conditions sequentially.\"\"\"\n"
      ],
      "metadata": {
        "id": "GeovakQoCS6r"
      },
      "execution_count": null,
      "outputs": []
    },
    {
      "cell_type": "code",
      "source": [
        "# Q13: What is the difference between for and while loops?\n",
        "q13_answer = \"\"\"The 'for' loop iterates over a sequence of items, such as a list or range,\n",
        "while the 'while' loop continues as long as a condition is true.\"\"\"\n"
      ],
      "metadata": {
        "id": "SzrCCsk1CkAY"
      },
      "execution_count": null,
      "outputs": []
    },
    {
      "cell_type": "code",
      "source": [
        "# Q14: Describe a scenario where a while loop is more suitable than a for loop.\n",
        "q14_answer = \"\"\"A while loop is more suitable when the number of iterations is not known in advance,\n",
        "such as when waiting for a user to input valid data.\"\"\"\n"
      ],
      "metadata": {
        "id": "7KwUfjzYCzGW"
      },
      "execution_count": null,
      "outputs": []
    },
    {
      "cell_type": "code",
      "source": [
        "#Practical Questions\n",
        "# Q1: Write a Python program to print \"Hello, World!\"\n",
        "print(hello_world)"
      ],
      "metadata": {
        "id": "GZnWdFBnDQut"
      },
      "execution_count": null,
      "outputs": []
    },
    {
      "cell_type": "code",
      "source": [
        "# Q2: Write a Python program that displays your name and age.\n",
        "name=\"RajKumar\"\n",
        "age= 25\n",
        "print(\"Name=\",name)\n",
        "print(\"Age=\",age)"
      ],
      "metadata": {
        "id": "MyRl0yVzEaij"
      },
      "execution_count": null,
      "outputs": []
    },
    {
      "cell_type": "code",
      "source": [
        "# Q3: Write code to print all the pre-defined keywords in Python using the keyword library\n",
        "print(\"Predefined keywords in Paython\")\n",
        "print(keyword.kwlist)"
      ],
      "metadata": {
        "id": "ewr-kTXfI5T_"
      },
      "execution_count": null,
      "outputs": []
    },
    {
      "cell_type": "code",
      "source": [
        "# Q4: Write a program that checks if a given word is a Python keyword.\n",
        "def is_keyword(word):\n",
        "    return word in keyword.kwlist\n",
        "import keyword  # Importing the necessary library\n",
        "\n",
        "def is_keyword(word):\n",
        "    return word in keyword.kwlist\n",
        "\n",
        "# Example Usage:\n",
        "word1 = \"for\"\n",
        "word2 = \"GODZILA\"\n",
        "\n",
        "result1 = is_keyword(word1)\n",
        "result2 = is_keyword(word2)\n",
        "\n",
        "print(f\"'{word1}' is a keyword: {result1}\")\n",
        "print(f\"'{word2}' is a keyword: {result2}\")\n"
      ],
      "metadata": {
        "id": "1qtwTDV6xZU-"
      },
      "execution_count": null,
      "outputs": []
    },
    {
      "cell_type": "code",
      "source": [
        "# Q5: Create a list and tuple in Python, and demonstrate how attempting to change an element works differently for each.\n",
        "example_list = [1, 2, 3]\n",
        "example_tuple = (1, 2, 3)\n",
        "\n",
        "# Attempting to change an element in the list:\n",
        "example_list[2] = 4  # This will work and modify the list\n",
        "\n",
        "# Attempting to change an element in the tuple:\n",
        "#example_tuple[1] = 4  # This will raise a TypeError\n",
        "\n",
        "# To illustrate, let's print both after the modification attempt:\n",
        "print(\"List after modification:\", example_list)\n",
        "# print(\"Tuple after modification:\", example_tuple)  # Uncomment to see the error"
      ],
      "metadata": {
        "id": "afhvY3yvdN3G"
      },
      "execution_count": null,
      "outputs": []
    },
    {
      "cell_type": "code",
      "source": [
        "#Q6 And Q7 Both are similar.\n",
        "# Q6: Write a function to demonstrate the behavior of mutable and immutable arguments.\n",
        "def mutable_and_immutable_demo(mutable, immutable):\n",
        "    mutable.append(4)\n",
        "    print(\"Inside function, after modifying mutable:\", mutable)\n",
        "\n",
        "    immutable += (4,)\n",
        "    print(\"Inside the function, after modifying immutable:\", immutable)\n",
        "\n",
        "# Example usage:\n",
        "mutable_list = [1, 2, 3]\n",
        "immutable_tuple = (1, 2, 3)\n",
        "print(\"Before function call:\")\n",
        "print(\"Mutable (list):\", mutable_list)\n",
        "print(\"Immutable (tuple):\", immutable_tuple)\n",
        "\n",
        "# Call the function\n",
        "mutable_and_immutable_demo(mutable_list, immutable_tuple) # Changed function name here\n",
        "print(\"\\nAfter function call:\")\n",
        "print(\"mutable(list):\", mutable_list) #The list is modified. # Changed variable name here\n",
        "print(\"Immutable (tuple):\", immutable_tuple) #The tuple remains unchanged."
      ],
      "metadata": {
        "id": "XICQiuRjdRX5"
      },
      "execution_count": null,
      "outputs": []
    },
    {
      "cell_type": "code",
      "source": [
        "# Q8: Write a program to demonstrate the use of logical operators\n",
        "def logical_operators_demo(a, b):\n",
        "    print (\"a and b:\",a and b)#True If both a and b are true.\n",
        "    print(\"a or b:\",a or b)#True if either a or b is true.\n",
        "    print(\"not a:\",not a)#True if a is false, False if a is True.\n",
        "# Example usage:\n",
        "a= True\n",
        "b= False\n",
        "print(\"Logical operators demo:\")\n",
        "logical_operators_demo(a, b)\n"
      ],
      "metadata": {
        "id": "HVudjhI2y-6c"
      },
      "execution_count": null,
      "outputs": []
    },
    {
      "cell_type": "code",
      "source": [
        "# Q9: Write a Python program to convert user input from string to integer, float, and boolean types\n",
        "def convert_user_input(input_string):\n",
        "    try:\n",
        "        int_value = int(input_string)  # Convert to integer\n",
        "    except ValueError:\n",
        "        int_value = \"Cannot convert to integer\"\n",
        "\n",
        "    try:\n",
        "        float_value = float(input_string)  # Convert to float\n",
        "    except ValueError:\n",
        "        float_value = \"Cannot convert to float\"\n",
        "\n",
        "    bool_value = bool(input_string)  # Convert to boolean\n",
        "\n",
        "    return {\n",
        "        \"String\": input_string,\n",
        "        \"Integer\": int_value,\n",
        "        \"Float\": float_value,\n",
        "        \"Boolean\": bool_value\n",
        "    }\n",
        "\n",
        "# Example usage\n",
        "user_input = input(\"Enter a value: \")\n",
        "converted_values = convert_user_input(user_input)\n",
        "\n",
        "# Display the converted values\n",
        "print(\"Converted values:\")\n",
        "for key, value in converted_values.items():\n",
        "    print(f\"{key}: {value}\")\n"
      ],
      "metadata": {
        "id": "hqFBtLRJzMgt"
      },
      "execution_count": null,
      "outputs": []
    },
    {
      "cell_type": "code",
      "source": [
        "# Q10: Write code to demonstrate type casting with list elements\n",
        "def type_cast_list_elements(elements):\n",
        "    return [str(element) for element in elements]\n",
        "# Example list with elements of different types\n",
        "my_list = [10, \"20\", 30.5, \"40\"]\n",
        "\n",
        "# Type casting to integer\n",
        "int_list = [int(item) for item in my_list if str(item).isdigit()] #isdigit will only work for positive integers\n",
        "\n",
        "# Type casting to float\n",
        "float_list = [float(item) for item in my_list]\n",
        "\n",
        "# Type casting to string\n",
        "str_list = [str(item) for item in my_list]\n",
        "\n",
        "# Print the original and type-casted lists\n",
        "print(\"Original list:\", my_list)\n",
        "print(\"Integer list:\", int_list)\n",
        "print(\"Float list:\", float_list)\n",
        "print(\"String list:\", str_list)\n",
        "\n"
      ],
      "metadata": {
        "id": "ynaVaPE4zLhA"
      },
      "execution_count": null,
      "outputs": []
    },
    {
      "cell_type": "code",
      "source": [
        "# Q11: Write a program that checks if a number is positive, negative, or zero\n",
        "def check_number_sign(num):\n",
        "    if num > 0:\n",
        "        return \"Positive\"\n",
        "    elif num < 0:\n",
        "        return \"Negative\"\n",
        "    else:\n",
        "        return \"Zero\"\n",
        " #Example.\n",
        "# Get input from the user\n",
        "num = float(input(\"Enter a number: \"))\n",
        "\n",
        "# Check the sign of the number\n",
        "result = check_number_sign(num)\n",
        "\n",
        "# Print the result\n",
        "print(f\"The number is {result}\")\n"
      ],
      "metadata": {
        "id": "8njMQDWOAklI"
      },
      "execution_count": null,
      "outputs": []
    },
    {
      "cell_type": "code",
      "source": [
        "#Q12: Write a for loop to print numbers from 1 to 10\n",
        "\n",
        "for i in range(1, 11): # range(1, 11) generates numbers from 1 to 10 (inclusive)\n",
        "    print(i)"
      ],
      "metadata": {
        "id": "iaqR0lY3YWtc"
      },
      "execution_count": null,
      "outputs": []
    },
    {
      "cell_type": "code",
      "source": [
        "# Q13: Write a Python program to find the sum of all even numbers between 1 and 50\n",
        "sum_even_numbers = sum(i for i in range(1, 51) if i % 2 == 0)\n",
        "#Display the result\n",
        "print(f\"Sum of all even numbers between 1 and 50:\", sum_even_numbers)"
      ],
      "metadata": {
        "id": "Zy6Udk1HZx-m"
      },
      "execution_count": null,
      "outputs": []
    },
    {
      "cell_type": "code",
      "source": [
        "#Q14: Write a program to reverse a string using a while loop\n",
        "def reverse_string_while_loop(s):\n",
        "    reversed_string = \"\"\n",
        "    i = len(s) - 1\n",
        "    while i >= 0:\n",
        "        reversed_string += s[i]\n",
        "        i -= 1\n",
        "    return reversed_string\n",
        "\n",
        "# Example usage:\n",
        "string_to_reverse = \"hello\"\n",
        "reversed_string = reverse_string_while_loop(string_to_reverse)\n",
        "print(reversed_string)  # Output: olleh"
      ],
      "metadata": {
        "id": "O_8UGHzsbR9B"
      },
      "execution_count": null,
      "outputs": []
    },
    {
      "cell_type": "code",
      "source": [
        "# Q28: Write a Python program to calculate the factorial of a number provided by the user using a while loop\n",
        "def factorial_while_loop(n):\n",
        "    factorial = 1\n",
        "    while n > 0:\n",
        "        factorial *= n\n",
        "        n -= 1\n",
        "    return factorial\n",
        "\n",
        "# Get input from the user\n",
        "num = int(input(\"Enter a number: \"))\n",
        "\n",
        "# Calculate the factorial\n",
        "result = factorial_while_loop(num)\n",
        "\n",
        "# Print the result\n",
        "print(f\"The factorial of {num} is {result}\")\n"
      ],
      "metadata": {
        "id": "jWpo_Xq_b28T"
      },
      "execution_count": null,
      "outputs": []
    },
    {
      "cell_type": "code",
      "source": [],
      "metadata": {
        "id": "3kpzwu55cNUT"
      },
      "execution_count": null,
      "outputs": []
    }
  ]
}